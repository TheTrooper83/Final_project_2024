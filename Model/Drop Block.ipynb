{
 "cells": [
  {
   "cell_type": "markdown",
   "metadata": {},
   "source": [
    "# Final Project\n",
    "\n",
    "## Feature Prototype\n",
    "\n",
    "### Project Idea 1: Deep Learning on a public dataset\n",
    "\n"
   ]
  },
  {
   "cell_type": "code",
   "execution_count": 1,
   "metadata": {},
   "outputs": [
    {
     "name": "stdout",
     "output_type": "stream",
     "text": [
      "Num GPUs Available:  1\n"
     ]
    }
   ],
   "source": [
    "# Importing Tensor flow and checking that the GPU is Recognized\n",
    "\n",
    "import tensorflow as tf\n",
    "print(\"Num GPUs Available: \", len(tf.config.list_physical_devices('GPU')))\n"
   ]
  },
  {
   "cell_type": "markdown",
   "metadata": {},
   "source": [
    "# Load Data"
   ]
  },
  {
   "cell_type": "code",
   "execution_count": 2,
   "metadata": {},
   "outputs": [],
   "source": [
    "# Importing Library to load the Dataset\n",
    "from scipy.io import loadmat\n",
    "\n",
    "# Change this names !!\n",
    "\n",
    "train_raw = loadmat('../data/mat/train_32x32.mat')  # Train Set\n",
    "test_raw = loadmat('../data/mat/test_32x32.mat')    # Test Set\n",
    "extra_raw = loadmat('../data/mat/extra_32x32.mat')  # Extra Set"
   ]
  },
  {
   "cell_type": "markdown",
   "metadata": {},
   "source": [
    "Below, I am splitting up the dataset into training data and training labels"
   ]
  },
  {
   "cell_type": "code",
   "execution_count": 3,
   "metadata": {},
   "outputs": [],
   "source": [
    "import numpy as np\n",
    "\n",
    "# Training Set & Labels\n",
    "train_data = train_raw['X']\n",
    "train_labels = train_raw['y']\n",
    "\n",
    "# Extra Dataset & Labels\n",
    "extra_data = extra_raw['X']\n",
    "extra_labels = extra_raw['y']\n",
    "\n",
    "# Test Data & Labels\n",
    "test_data = test_raw['X']\n",
    "test_labels = test_raw['y']"
   ]
  },
  {
   "cell_type": "markdown",
   "metadata": {},
   "source": [
    "Below, I am checking the shape of each of the data and labels sets."
   ]
  },
  {
   "cell_type": "code",
   "execution_count": 4,
   "metadata": {},
   "outputs": [
    {
     "name": "stdout",
     "output_type": "stream",
     "text": [
      "Training Data: (32, 32, 3, 73257) Training Labels: (73257, 1)\n",
      "Extra Data: (32, 32, 3, 531131) Extra Lables: (531131, 1)\n",
      "Test Data: (32, 32, 3, 26032) Test Lables: (26032, 1)\n"
     ]
    }
   ],
   "source": [
    "print('Training Data:', train_data.shape, 'Training Labels:', train_labels.shape)\n",
    "print('Extra Data:', extra_data.shape, 'Extra Lables:', extra_labels.shape)\n",
    "print('Test Data:', test_data.shape, 'Test Lables:', test_labels.shape)\n"
   ]
  },
  {
   "cell_type": "code",
   "execution_count": 5,
   "metadata": {},
   "outputs": [],
   "source": [
    "# Adapted From https://www.tensorflow.org/tutorials/load_data/images\n",
    "\n",
    "# Import the matplotlib library for visualization\n",
    "import matplotlib.pyplot as plt\n",
    "\n",
    "def plot_sample_images(data, labels):\n",
    "\n",
    "    # Create a new figure with a specific size of 10x10\n",
    "    plt.figure(figsize=(10, 10))\n",
    "\n",
    "    # Loop over the first 9 images in the dataset\n",
    "    for i in range(9):\n",
    "        \n",
    "        # Create a subplot in a 3x3 grid\n",
    "        ax = plt.subplot(3, 3, i + 1)\n",
    "        \n",
    "        # Display the i-th image from the 'train_data'    \n",
    "        plt.imshow(data[:, :, :, i])\n",
    "        \n",
    "        # Set the title of the subplot to the corresponding label in 'train_labels'\n",
    "        plt.title(labels[i])\n",
    "        \n",
    "        # Turn off the axis to remove ticks and labels for a cleaner display\n",
    "        plt.axis(\"off\")\n"
   ]
  },
  {
   "cell_type": "markdown",
   "metadata": {},
   "source": [
    "# Pre-Processing"
   ]
  },
  {
   "cell_type": "markdown",
   "metadata": {},
   "source": [
    "Here I will pre-process the dataset for training. I will be using the same method as ( Sermanet, Pierre, Chintala, Soumith, and LeCun, Yann ) in their paper 'Convolutional neural networks applied to house numbers digit classification'. "
   ]
  },
  {
   "cell_type": "code",
   "execution_count": 6,
   "metadata": {},
   "outputs": [],
   "source": [
    "# Function to create a validation set\n",
    "\n",
    "def create_validation_set(X, y, num_samples_per_class):\n",
    "\n",
    "    # Array: Stores the unique classes of label set\n",
    "    unique_classes = np.unique(y)\n",
    "\n",
    "    # List: To store chosen indexes                   \n",
    "    chosen_indexes = []                             \n",
    "    \n",
    "    # Loop: iterate through each class\n",
    "    for cls in unique_classes:                      \n",
    "\n",
    "        # Array: Store all indexes from a class\n",
    "        class_indexes = np.where(y == cls)[0]       \n",
    "\n",
    "        # Array: Randomly select n indices from 'class_indexes'\n",
    "        chosen_class_indexes = np.random.choice(class_indexes, num_samples_per_class, replace=False)\n",
    "        # List:  Add each class indices to a list\n",
    "        chosen_indexes.extend(chosen_class_indexes)\n",
    "\n",
    "    # Array: Convert list to Numpy Array\n",
    "    chosen_indexes = np.array(chosen_indexes)\n",
    "\n",
    "    # Array:  Return the selected samples, label and indexes\n",
    "    return X[:, :, :, chosen_indexes], y[chosen_indexes], chosen_indexes\n"
   ]
  },
  {
   "cell_type": "markdown",
   "metadata": {},
   "source": [
    "## Validation Set\n",
    "To build a validation set, we select 400 samples per class from the training set and 200 samples per class from the extra set. The remaining digits of the train and extra sets are used for training."
   ]
  },
  {
   "cell_type": "code",
   "execution_count": 7,
   "metadata": {},
   "outputs": [
    {
     "name": "stdout",
     "output_type": "stream",
     "text": [
      "Validation data: (32, 32, 3, 6000) Validation Labels: (6000, 1)\n"
     ]
    }
   ],
   "source": [
    "# Creating Validation Function\n",
    "\n",
    "# Choose 400 samples from the training set for each class.\n",
    "X_val_train, y_val_train, val_train_indexes = create_validation_set(train_data, train_labels, 400)\n",
    "\n",
    "# Choose 200 samples from the extra set for each class.\n",
    "X_val_extra, y_val_extra, val_extra_indexes = create_validation_set(extra_data, extra_labels, 200)\n",
    "\n",
    "# Merge the two sets' validation samples.\n",
    "X_val = np.concatenate((X_val_train, X_val_extra), axis=3)  # Combine along the 4th dimension\n",
    "y_val = np.concatenate((y_val_train, y_val_extra), axis=0)\n",
    "\n",
    "print('Validation data:', X_val.shape ,'Validation Labels:', y_val.shape)\n",
    "\n"
   ]
  },
  {
   "cell_type": "markdown",
   "metadata": {},
   "source": [
    "There are 6000 samples in the dataset."
   ]
  },
  {
   "cell_type": "markdown",
   "metadata": {},
   "source": [
    "A function to Shuffle the datasets"
   ]
  },
  {
   "cell_type": "code",
   "execution_count": 8,
   "metadata": {},
   "outputs": [],
   "source": [
    "def shuffle_dataset(data, labels):\n",
    "\n",
    "    # Create a random number generator with a fixed seed\n",
    "    seed = 42\n",
    "    rng = np.random.default_rng(seed)\n",
    "\n",
    "    # Generate indexes for the validation set\n",
    "    shuffle_indexes = np.arange(labels.shape[0])  # Create an array of indexes\n",
    "    rng.shuffle(shuffle_indexes)  # Shuffle the indexes in-place\n",
    "\n",
    "    # Reorder X_val and y_val using the shuffled indexes\n",
    "    shuffled_data = data[:, :, :, shuffle_indexes]\n",
    "    shuffled_labels = labels[shuffle_indexes]\n",
    "\n",
    "    return shuffled_data, shuffled_labels"
   ]
  },
  {
   "cell_type": "markdown",
   "metadata": {},
   "source": [
    "Shuffling the Validation set"
   ]
  },
  {
   "cell_type": "code",
   "execution_count": 9,
   "metadata": {},
   "outputs": [],
   "source": [
    "X_val, y_val = shuffle_dataset(X_val, y_val)"
   ]
  },
  {
   "cell_type": "markdown",
   "metadata": {},
   "source": [
    "## Training Set"
   ]
  },
  {
   "cell_type": "markdown",
   "metadata": {},
   "source": [
    "Below, I will now remove the validation samples from the training and datasets."
   ]
  },
  {
   "cell_type": "code",
   "execution_count": 10,
   "metadata": {},
   "outputs": [
    {
     "name": "stdout",
     "output_type": "stream",
     "text": [
      "===================================================================\n",
      "Original Shape\n",
      "Training Data: (32, 32, 3, 73257) Training Labels: (73257, 1)\n",
      "Extra Data: (32, 32, 3, 531131) Extra Lables: (531131, 1)\n",
      "===================================================================\n",
      "New Shape\n",
      "Training Data: (32, 32, 3, 69257) Training Labels: (69257, 1)\n",
      "Extra Data: (32, 32, 3, 529131) Extra Lables: (529131, 1)\n"
     ]
    }
   ],
   "source": [
    "# Remove validation samples from the original training set\n",
    "X_train_new = np.delete(train_data, val_train_indexes, axis=3)\n",
    "y_train_new = np.delete(train_labels, val_train_indexes, axis=0)\n",
    "\n",
    "X_extra_new = np.delete(extra_data, val_extra_indexes, axis=3)\n",
    "y_extra_new = np.delete(extra_labels, val_extra_indexes, axis=0)\n",
    "\n",
    "\n",
    "\n",
    "\n",
    "print('===================================================================')\n",
    "print('Original Shape')\n",
    "print('Training Data:', train_data.shape, 'Training Labels:', train_labels.shape)\n",
    "print('Extra Data:', extra_data.shape, 'Extra Lables:', extra_labels.shape)\n",
    "print('===================================================================')\n",
    "print('New Shape')\n",
    "print('Training Data:', X_train_new.shape, 'Training Labels:', y_train_new.shape)\n",
    "print('Extra Data:', X_extra_new.shape, 'Extra Lables:', y_extra_new.shape)"
   ]
  },
  {
   "cell_type": "markdown",
   "metadata": {},
   "source": [
    "Above, You can see the new datasets size after removing the validation samples"
   ]
  },
  {
   "cell_type": "markdown",
   "metadata": {},
   "source": [
    "Below, I will now merge the training set and extra set together to create 1 training set."
   ]
  },
  {
   "cell_type": "code",
   "execution_count": 11,
   "metadata": {},
   "outputs": [
    {
     "name": "stdout",
     "output_type": "stream",
     "text": [
      "New training set Data: (32, 32, 3, 598388) New Training set Labels: (598388, 1)\n"
     ]
    }
   ],
   "source": [
    "# Merge the two sets' training data samples.\n",
    "X_train_merge = np.concatenate((X_train_new, X_extra_new), axis=3)  # Combine along the 4th dimension\n",
    "y_train_merge = np.concatenate((y_train_new, y_extra_new), axis=0)\n",
    "\n",
    "print('New training set Data:', X_train_merge.shape, 'New Training set Labels:', y_train_merge.shape)"
   ]
  },
  {
   "cell_type": "markdown",
   "metadata": {},
   "source": [
    "Above, You can see there are now just under 600,00 samples"
   ]
  },
  {
   "cell_type": "markdown",
   "metadata": {},
   "source": [
    "Shuffling the Merged data set"
   ]
  },
  {
   "cell_type": "code",
   "execution_count": 12,
   "metadata": {},
   "outputs": [],
   "source": [
    "X_train_merge, y_train_merge = shuffle_dataset(X_train_merge, y_train_merge)"
   ]
  },
  {
   "cell_type": "markdown",
   "metadata": {},
   "source": [
    "Plotting the new merged dataset samples."
   ]
  },
  {
   "cell_type": "code",
   "execution_count": 13,
   "metadata": {},
   "outputs": [
    {
     "data": {
      "image/png": "[encoded data removed]",
      "text/plain": [
       "<Figure size 1000x1000 with 9 Axes>"
      ]
     },
     "metadata": {},
     "output_type": "display_data"
    }
   ],
   "source": [
    "plot_sample_images(X_train_merge, y_train_merge)"
   ]
  },
  {
   "cell_type": "markdown",
   "metadata": {},
   "source": [
    "## Converting data types and Reshaping"
   ]
  },
  {
   "cell_type": "markdown",
   "metadata": {},
   "source": [
    "Below, I am converting the training set to float32 and the label set to int32 for better compatibility with the Keras model."
   ]
  },
  {
   "cell_type": "code",
   "execution_count": 14,
   "metadata": {},
   "outputs": [],
   "source": [
    "# Convert sets to float32\n",
    "X_train_float = X_train_merge.astype('float32')     # Training Set Data\n",
    "X_val_float = X_val.astype('float32')               # Validation Set Data\n",
    "test_data_float  = test_data.astype('float32')      # Test set Data\n",
    "\n",
    "y_train_merge = y_train_merge.astype('int32')       # Train set Labels\n",
    "y_val = y_val.astype('int32')                       # Validation set labels\n"
   ]
  },
  {
   "cell_type": "markdown",
   "metadata": {},
   "source": [
    "Below, I am reshaping the data to better match the Tensorflow/Keras standard of (batch_size, height, width, depth)"
   ]
  },
  {
   "cell_type": "code",
   "execution_count": 15,
   "metadata": {},
   "outputs": [
    {
     "name": "stdout",
     "output_type": "stream",
     "text": [
      "Training data (598388, 32, 32, 3) Training Labels (598388, 1)\n",
      "Validation data (6000, 32, 32, 3) 598388, 32, 32, Validation Labels (6000, 1)\n",
      "Test data (26032, 32, 32, 3) Test Labels (26032, 1)\n"
     ]
    }
   ],
   "source": [
    "#Reshape\n",
    "\n",
    "X_train_reshaped = np.transpose(X_train_float, (3, 0, 1, 2))        # Shape: (32, 32, 3, 598388)\n",
    "X_val_reshaped = np.transpose(X_val_float, (3, 0, 1, 2))            # Shape: (32, 32, 3, 6000)\n",
    "test_data_reshaped = np.transpose(test_data_float, (3, 0, 1, 2))    # Shape: (32, 32, 3, 26032)\n",
    "\n",
    "\n",
    "print(\"Training data\", X_train_reshaped.shape, \"Training Labels\", y_train_merge.shape )\n",
    "print(\"Validation data\", X_val_reshaped.shape, \"598388, 32, 32, Validation Labels\", y_val.shape )\n",
    "print(\"Test data\", test_data_reshaped.shape, \"Test Labels\", test_labels.shape)"
   ]
  },
  {
   "cell_type": "code",
   "execution_count": 16,
   "metadata": {},
   "outputs": [
    {
     "data": {
      "text/plain": [
       "598388"
      ]
     },
     "execution_count": 16,
     "metadata": {},
     "output_type": "execute_result"
    }
   ],
   "source": [
    "len(X_train_reshaped)"
   ]
  },
  {
   "cell_type": "markdown",
   "metadata": {},
   "source": [
    "## Normalization"
   ]
  },
  {
   "cell_type": "markdown",
   "metadata": {},
   "source": [
    "Normalize the data to a common scale for more efficient training."
   ]
  },
  {
   "cell_type": "code",
   "execution_count": 17,
   "metadata": {},
   "outputs": [],
   "source": [
    "# Create the Normalization object\n",
    "norm_layer = tf.keras.layers.Normalization(axis=-1)\n",
    "\n",
    "# Fit the training data to calculate the mean and Variance\n",
    "norm_layer.adapt(X_train_reshaped)"
   ]
  },
  {
   "cell_type": "code",
   "execution_count": 18,
   "metadata": {},
   "outputs": [
    {
     "name": "stdout",
     "output_type": "stream",
     "text": [
      "Mean: [[[[109.87014  109.69102  113.778694]]]]\n",
      "Variance: [[[[2511.4565 2557.1646 2585.8994]]]]\n"
     ]
    }
   ],
   "source": [
    "print(\"Mean:\", norm_layer.mean.numpy())  # Should output the computed mean\n",
    "print(\"Variance:\", norm_layer.variance.numpy())  # Should output the computed variance"
   ]
  },
  {
   "cell_type": "markdown",
   "metadata": {},
   "source": [
    "Apply normalization to the training and validation sets."
   ]
  },
  {
   "cell_type": "code",
   "execution_count": 19,
   "metadata": {},
   "outputs": [],
   "source": [
    "# Normalize Data\n",
    "\n",
    "with tf.device('/CPU:0'):\n",
    "    X_train_normalized = norm_layer(X_train_reshaped)\n",
    "    X_val_normalized = norm_layer(X_val_reshaped)"
   ]
  },
  {
   "cell_type": "markdown",
   "metadata": {},
   "source": [
    "Checking the Images after normalization."
   ]
  },
  {
   "cell_type": "code",
   "execution_count": 22,
   "metadata": {},
   "outputs": [
    {
     "data": {
      "image/png": "[encoded data removed]",
      "text/plain": [
       "<Figure size 1000x1000 with 9 Axes>"
      ]
     },
     "metadata": {},
     "output_type": "display_data"
    }
   ],
   "source": [
    "\n",
    "plt.figure(figsize=(10, 10))\n",
    "\n",
    "# Loop over the first 9 images in the dataset\n",
    "for i in range(9):\n",
    "    \n",
    "    # Create a subplot in a 3x3 grid\n",
    "    ax = plt.subplot(3, 3, i + 1)\n",
    "    \n",
    "    # https://stackoverflow.com/questions/1456000/rescaling-ranges\n",
    "    rescaled_image = (X_train_normalized [i, :, :, :] - tf.reduce_min(\n",
    "                          X_train_normalized [i, :, :, :])) / (tf.reduce_max(\n",
    "                              X_train_normalized [i, :, :, :]) - tf.reduce_min(\n",
    "                                  X_train_normalized [i, :, :, :]))\n",
    "\n",
    "    # Display the i-th image from the 'train_data'    \n",
    "    plt.imshow(rescaled_image)\n",
    "    \n",
    "    # Set the title of the subplot to the corresponding label in 'train_labels'\n",
    "    plt.title(y_train_merge[i])\n",
    "    \n",
    "    # Turn off the axis to remove ticks and labels for a cleaner display\n",
    "    plt.axis(\"off\")\n"
   ]
  },
  {
   "cell_type": "markdown",
   "metadata": {},
   "source": [
    "The images look brighter after normalization."
   ]
  },
  {
   "cell_type": "markdown",
   "metadata": {},
   "source": [
    "## Converting Labels to a One hot encoded array"
   ]
  },
  {
   "cell_type": "markdown",
   "metadata": {},
   "source": [
    "I am using the 'categorical_crossentropy' loss function which expects one hot encoded values. First I will change the way the digit 0 is labelled. At the moment digit 0 is labelled as 10. I will re-label it a 0"
   ]
  },
  {
   "cell_type": "code",
   "execution_count": 23,
   "metadata": {},
   "outputs": [
    {
     "name": "stdout",
     "output_type": "stream",
     "text": [
      "Unique values in adjusted y_train_merge: [0 1 2 3 4 5 6 7 8 9]\n",
      "Unique values in adjusted y_val: [0 1 2 3 4 5 6 7 8 9]\n",
      "Unique values in adjusted test_labels: [0 1 2 3 4 5 6 7 8 9]\n"
     ]
    }
   ],
   "source": [
    "# Convert 10 to 0 for all label sets\n",
    "\n",
    "import numpy as np\n",
    "\n",
    "# Replace label 10 with 0\n",
    "y_train_relabelled = np.where(y_train_merge == 10, 0, y_train_merge)\n",
    "y_val_relabelled = np.where(y_val == 10, 0, y_val)\n",
    "y_test_relabelled = np.where(test_labels == 10, 0, test_labels)\n",
    "\n",
    "# Validate the labels\n",
    "print(\"Unique values in adjusted y_train_merge:\", np.unique(y_train_relabelled ))\n",
    "print(\"Unique values in adjusted y_val:\", np.unique(y_val_relabelled ))\n",
    "print(\"Unique values in adjusted test_labels:\", np.unique(y_test_relabelled ))"
   ]
  },
  {
   "cell_type": "markdown",
   "metadata": {},
   "source": [
    "One hot encoded the labels below."
   ]
  },
  {
   "cell_type": "code",
   "execution_count": 24,
   "metadata": {},
   "outputs": [],
   "source": [
    "# Import module\n",
    "from sklearn.preprocessing import OneHotEncoder\n",
    "\n",
    "# Fit the OneHotEncoder ot the training labels\n",
    "enc = OneHotEncoder().fit(y_train_relabelled)\n",
    "\n",
    "# Transform the label values to a one-hot-encoding scheme\n",
    "y_train_oh = enc.transform(y_train_relabelled).toarray()\n",
    "y_val_oh = enc.transform(y_val_relabelled).toarray()"
   ]
  },
  {
   "cell_type": "markdown",
   "metadata": {},
   "source": [
    "Below, I am computing the class weights of the training data. This will be used with the classification model to make sure when the accuracy is calculated the imbalance is taken into account."
   ]
  },
  {
   "cell_type": "code",
   "execution_count": 25,
   "metadata": {},
   "outputs": [
    {
     "data": {
      "text/plain": [
       "{0: 1.1992224137239968,\n",
       " 1: 0.5763650899143719,\n",
       " 2: 0.7062708763647093,\n",
       " 3: 0.8714980629751536,\n",
       " 4: 1.0408376963350785,\n",
       " 5: 1.0011175801378571,\n",
       " 6: 1.2810978612258879,\n",
       " 7: 1.2213994121489222,\n",
       " 8: 1.5033741175288295,\n",
       " 9: 1.5536492275736726}"
      ]
     },
     "execution_count": 25,
     "metadata": {},
     "output_type": "execute_result"
    }
   ],
   "source": [
    "# Reference: https://stackoverflow.com/questions/43481490/keras-class-weights-class-weight-for-one-hot-encoding\n",
    "from sklearn.utils import class_weight\n",
    "\n",
    "\n",
    "y_integers = np.argmax(y_train_oh, axis=1)\n",
    "class_weights = class_weight.compute_class_weight('balanced', classes=np.unique(y_integers), y=y_integers)\n",
    "\n",
    "d_class_weights = dict(enumerate(class_weights))\n",
    "d_class_weights"
   ]
  },
  {
   "cell_type": "markdown",
   "metadata": {},
   "source": [
    "## Converting to Tensor"
   ]
  },
  {
   "cell_type": "code",
   "execution_count": 26,
   "metadata": {},
   "outputs": [],
   "source": [
    "with tf.device('/cpu:0'):\n",
    "    train_dataset = tf.data.Dataset.from_tensor_slices((X_train_normalized, y_train_oh))\n",
    "    val_dataset = tf.data.Dataset.from_tensor_slices((X_val_normalized, y_val_oh))\n"
   ]
  },
  {
   "cell_type": "code",
   "execution_count": 27,
   "metadata": {},
   "outputs": [],
   "source": [
    "BATCH_SIZE = 128\n",
    "SHUFFLE_BUFFER_SIZE = 100\n",
    "\n",
    "train_dataset = train_dataset.shuffle(SHUFFLE_BUFFER_SIZE).batch(BATCH_SIZE)\n",
    "val_dataset = val_dataset.batch(BATCH_SIZE)"
   ]
  },
  {
   "cell_type": "markdown",
   "metadata": {},
   "source": [
    "# Simple Classification Model"
   ]
  },
  {
   "cell_type": "markdown",
   "metadata": {},
   "source": [
    "for the first evaluation I will compare 2 models with the same architecture but using differentr activation functions. I want to confirm if Maxout networks offer any benefits over the Relu function. Before I proceed in fine tuning and using more sophisticated techniques.\n",
    "\n",
    "The first model I will use will be focussed around the model in Maxout Networks by (Ian J. Goodfellow, David Warde-Farley, Mehdi Mirza, Aaron Courville, Yoshua Bengio) 2013. I will use the same structure of the model used in the paper but with the Relu activation function. In the second Model I will use the Maxout Activation function. The structure of both the model will be as follow:\n",
    "\n",
    "1. Three Convolutional Layers:\n",
    "\n",
    "    - As stated before the activation function will either be Maxout or Relu depending on the Model.\n",
    "\n",
    "1. One Fully Connected Layer with activation function:\n",
    "\n",
    "    - After the convolutional layers, a dense (fully connected) with either Maxout or Relu will be used.\n",
    "\n",
    "1. One Fully Connected Softmax Layer:\n",
    "\n",
    "    - A standard softmax layer is used at the output for final digit classification.\n",
    "\n",
    "1. Dropout Regularization:\n",
    "\n",
    "    - Dropout will be applied to each layer onf the model. I will use a setting of 0.2 for the convolutional layers and 0.5 for the dense layers.\n",
    "\n"
   ]
  },
  {
   "cell_type": "code",
   "execution_count": 28,
   "metadata": {},
   "outputs": [],
   "source": [
    "# seed_test = tf.random.Generator.from_seed(1)\n",
    "seed_test = tf.random.set_seed (None)\n",
    "seed_test"
   ]
  },
  {
   "cell_type": "code",
   "execution_count": 29,
   "metadata": {},
   "outputs": [
    {
     "name": "stdout",
     "output_type": "stream",
     "text": [
      "tf.Tensor(\n",
      "[[[0.08216608 0.40928006 0.39318466 0.3162533 ]\n",
      "  [0.34717774 0.73199546 0.56369007 0.9769211 ]\n",
      "  [0.55243933 0.13101244 0.2941643  0.5130266 ]\n",
      "  [0.38977218 0.80855536 0.6040567  0.10502195]]], shape=(1, 4, 4), dtype=float32)\n",
      "tf.Tensor(\n",
      "[[[0.10955477 0.54570675 0.5242462  0.42167106]\n",
      "  [0.46290365 0.97599393 0.75158674 1.3025614 ]\n",
      "  [0.         0.         0.39221907 0.6840355 ]\n",
      "  [0.         0.         0.80540895 0.14002927]]], shape=(1, 4, 4), dtype=float32)\n"
     ]
    }
   ],
   "source": [
    "from utils.DropBlock import DropBlock2D\n",
    "\n",
    "# Small feature map shape for demonstration purposes:\n",
    "features = tf.random.stateless_uniform((1, 4, 4, 1), seed=[0, 1])\n",
    "\n",
    "print(features[..., 0])\n",
    "\n",
    "layer = DropBlock2D(0.1, block_size=2, seed=1234)\n",
    "\n",
    "output = layer(features, training=True)\n",
    "\n",
    "print(output[..., 0])"
   ]
  },
  {
   "cell_type": "code",
   "execution_count": 30,
   "metadata": {},
   "outputs": [
    {
     "ename": "SyntaxError",
     "evalue": "invalid syntax (3194995719.py, line 1)",
     "output_type": "error",
     "traceback": [
      "\u001b[1;36m  Cell \u001b[1;32mIn[30], line 1\u001b[1;36m\u001b[0m\n\u001b[1;33m    Stop Here !\u001b[0m\n\u001b[1;37m         ^\u001b[0m\n\u001b[1;31mSyntaxError\u001b[0m\u001b[1;31m:\u001b[0m invalid syntax\n"
     ]
    }
   ],
   "source": [
    "Stop Here !"
   ]
  },
  {
   "cell_type": "markdown",
   "metadata": {},
   "source": [
    "## Model 1: Relu"
   ]
  },
  {
   "cell_type": "code",
   "execution_count": 85,
   "metadata": {},
   "outputs": [
    {
     "name": "stdout",
     "output_type": "stream",
     "text": [
      "Model: \"sequential_25\"\n",
      "_________________________________________________________________\n",
      " Layer (type)                Output Shape              Param #   \n",
      "=================================================================\n",
      " conv2d_84 (Conv2D)          (None, 30, 30, 32)        896       \n",
      "                                                                 \n",
      " drop_block2d_93 (DropBlock2  (None, 30, 30, 32)       0         \n",
      " D)                                                              \n",
      "                                                                 \n",
      " max_pooling2d_75 (MaxPoolin  (None, 15, 15, 32)       0         \n",
      " g2D)                                                            \n",
      "                                                                 \n",
      " conv2d_85 (Conv2D)          (None, 13, 13, 64)        18496     \n",
      "                                                                 \n",
      " drop_block2d_94 (DropBlock2  (None, 13, 13, 64)       0         \n",
      " D)                                                              \n",
      "                                                                 \n",
      " max_pooling2d_76 (MaxPoolin  (None, 6, 6, 64)         0         \n",
      " g2D)                                                            \n",
      "                                                                 \n",
      " conv2d_86 (Conv2D)          (None, 4, 4, 128)         73856     \n",
      "                                                                 \n",
      " drop_block2d_95 (DropBlock2  (None, 4, 4, 128)        0         \n",
      " D)                                                              \n",
      "                                                                 \n",
      " max_pooling2d_77 (MaxPoolin  (None, 2, 2, 128)        0         \n",
      " g2D)                                                            \n",
      "                                                                 \n",
      " flatten_25 (Flatten)        (None, 512)               0         \n",
      "                                                                 \n",
      " dense_50 (Dense)            (None, 128)               65664     \n",
      "                                                                 \n",
      " dense_51 (Dense)            (None, 10)                1290      \n",
      "                                                                 \n",
      "=================================================================\n",
      "Total params: 160,202\n",
      "Trainable params: 160,202\n",
      "Non-trainable params: 0\n",
      "_________________________________________________________________\n"
     ]
    }
   ],
   "source": [
    "import tensorflow as tf\n",
    "import tensorflow_addons as tfa\n",
    "from keras import activations\n",
    "# from utils.old_DropBlock import DropBlock2D\n",
    "import importlib\n",
    "import utils.DropBlock\n",
    "from utils.DropBlock import DropBlock2D\n",
    "importlib.reload(utils.DropBlock)\n",
    "\n",
    "\n",
    "# Build the model\n",
    "model_Relu_dropblock = tf.keras.Sequential([\n",
    "    tf.keras.layers.InputLayer(input_shape=(32, 32, 3)),  # Input layer\n",
    "  \n",
    "\n",
    "    tf.keras.layers.Conv2D(32, (3, 3), activation='relu'),                 # Convolutional layer\n",
    "    # tf.keras.layers.Dropout(0.2),\n",
    "    DropBlock2D(rate=0.5, block_size=3 ),\n",
    "    tf.keras.layers.MaxPooling2D((2, 2)),\n",
    "    \n",
    "\n",
    "    tf.keras.layers.Conv2D(64, (3, 3), activation='relu'),                 # Convolutional layer\n",
    "    # tf.keras.layers.Dropout(0.2),\n",
    "    DropBlock2D(rate=0.5, block_size=3),\n",
    "    tf.keras.layers.MaxPooling2D((2, 2)),\n",
    "    \n",
    "\n",
    "    tf.keras.layers.Conv2D(128, (3, 3), activation='relu'),                 # Convolutional layer\n",
    "    # tf.keras.layers.Dropout(0.2),\n",
    "    DropBlock2D(rate=0.5, block_size=3),\n",
    "    tf.keras.layers.MaxPooling2D((2, 2)), \n",
    "       \n",
    "\n",
    "    tf.keras.layers.Flatten(),\n",
    "\n",
    "    \n",
    "    tf.keras.layers.Dense(128, activation='relu'),\n",
    "    # tf.keras.layers.Dropout(0.5),\n",
    "    # DropBlock2D(rate=0.5, block_size=3),  \n",
    "\n",
    "\n",
    "    tf.keras.layers.Dense(10, activation='softmax')    # Output layer for 10 classes\n",
    "])\n",
    "\n",
    "# Compile the model\n",
    "model_Relu_dropblock.compile(optimizer='adam',\n",
    "              loss='categorical_crossentropy',\n",
    "              metrics=['accuracy'])\n",
    "\n",
    "# Print the summary\n",
    "model_Relu_dropblock.summary()"
   ]
  },
  {
   "cell_type": "code",
   "execution_count": 86,
   "metadata": {},
   "outputs": [
    {
     "name": "stdout",
     "output_type": "stream",
     "text": [
      "Epoch 1/100\n",
      "4675/4675 [==============================] - 36s 8ms/step - loss: 0.3979 - accuracy: 0.8793 - val_loss: 0.2675 - val_accuracy: 0.9238\n",
      "Epoch 2/100\n",
      "4675/4675 [==============================] - 35s 7ms/step - loss: 0.2305 - accuracy: 0.9323 - val_loss: 0.2288 - val_accuracy: 0.9350\n",
      "Epoch 3/100\n",
      "4675/4675 [==============================] - 37s 8ms/step - loss: 0.2087 - accuracy: 0.9391 - val_loss: 0.2170 - val_accuracy: 0.9363\n",
      "Epoch 4/100\n",
      "4675/4675 [==============================] - 35s 7ms/step - loss: 0.1977 - accuracy: 0.9425 - val_loss: 0.2141 - val_accuracy: 0.9402\n",
      "Epoch 5/100\n",
      "4675/4675 [==============================] - 35s 8ms/step - loss: 0.1922 - accuracy: 0.9440 - val_loss: 0.2111 - val_accuracy: 0.9485\n",
      "Epoch 6/100\n",
      "4675/4675 [==============================] - 35s 7ms/step - loss: 0.1866 - accuracy: 0.9457 - val_loss: 0.2051 - val_accuracy: 0.9445\n",
      "Epoch 7/100\n",
      "4675/4675 [==============================] - 36s 8ms/step - loss: 0.1823 - accuracy: 0.9471 - val_loss: 0.1959 - val_accuracy: 0.9452\n",
      "Epoch 8/100\n",
      "4675/4675 [==============================] - 35s 8ms/step - loss: 0.1798 - accuracy: 0.9475 - val_loss: 0.2052 - val_accuracy: 0.9458\n",
      "Epoch 9/100\n",
      "4675/4675 [==============================] - 35s 8ms/step - loss: 0.1762 - accuracy: 0.9486 - val_loss: 0.2022 - val_accuracy: 0.9425\n",
      "Epoch 10/100\n",
      "4675/4675 [==============================] - 36s 8ms/step - loss: 0.1760 - accuracy: 0.9491 - val_loss: 0.1978 - val_accuracy: 0.9450\n",
      "Epoch 11/100\n",
      "4675/4675 [==============================] - 37s 8ms/step - loss: 0.1745 - accuracy: 0.9499 - val_loss: 0.1980 - val_accuracy: 0.9467\n",
      "Epoch 12/100\n",
      "4675/4675 [==============================] - 34s 7ms/step - loss: 0.1740 - accuracy: 0.9498 - val_loss: 0.1895 - val_accuracy: 0.9505\n",
      "Epoch 13/100\n",
      "4675/4675 [==============================] - 35s 7ms/step - loss: 0.1710 - accuracy: 0.9508 - val_loss: 0.1854 - val_accuracy: 0.9505\n",
      "Epoch 14/100\n",
      "4675/4675 [==============================] - 34s 7ms/step - loss: 0.1712 - accuracy: 0.9505 - val_loss: 0.1908 - val_accuracy: 0.9510\n",
      "Epoch 15/100\n",
      "4675/4675 [==============================] - 35s 8ms/step - loss: 0.1697 - accuracy: 0.9511 - val_loss: 0.1873 - val_accuracy: 0.9517\n",
      "Epoch 16/100\n",
      "4675/4675 [==============================] - 35s 7ms/step - loss: 0.1687 - accuracy: 0.9515 - val_loss: 0.1875 - val_accuracy: 0.9507\n",
      "Epoch 17/100\n",
      "4675/4675 [==============================] - 36s 8ms/step - loss: 0.1682 - accuracy: 0.9514 - val_loss: 0.1970 - val_accuracy: 0.9445\n",
      "Epoch 18/100\n",
      "4675/4675 [==============================] - 35s 8ms/step - loss: 0.1685 - accuracy: 0.9518 - val_loss: 0.1904 - val_accuracy: 0.9480\n",
      "Epoch 19/100\n",
      "4675/4675 [==============================] - 37s 8ms/step - loss: 0.1680 - accuracy: 0.9517 - val_loss: 0.1875 - val_accuracy: 0.9523\n",
      "Epoch 20/100\n",
      "4675/4675 [==============================] - 40s 8ms/step - loss: 0.1679 - accuracy: 0.9515 - val_loss: 0.1879 - val_accuracy: 0.9503\n",
      "Epoch 21/100\n",
      "4675/4675 [==============================] - 35s 7ms/step - loss: 0.1677 - accuracy: 0.9518 - val_loss: 0.1980 - val_accuracy: 0.9463\n",
      "Epoch 22/100\n",
      "4675/4675 [==============================] - 35s 7ms/step - loss: 0.1674 - accuracy: 0.9520 - val_loss: 0.1983 - val_accuracy: 0.9452\n",
      "Epoch 23/100\n",
      "4675/4675 [==============================] - 35s 7ms/step - loss: 0.1651 - accuracy: 0.9523 - val_loss: 0.1909 - val_accuracy: 0.9520\n",
      "Epoch 24/100\n",
      "4675/4675 [==============================] - 34s 7ms/step - loss: 0.1654 - accuracy: 0.9524 - val_loss: 0.1887 - val_accuracy: 0.9497\n",
      "Epoch 25/100\n",
      "4675/4675 [==============================] - 35s 7ms/step - loss: 0.1663 - accuracy: 0.9522 - val_loss: 0.1837 - val_accuracy: 0.9518\n",
      "Epoch 26/100\n",
      "4675/4675 [==============================] - 34s 7ms/step - loss: 0.1657 - accuracy: 0.9523 - val_loss: 0.1912 - val_accuracy: 0.9513\n",
      "Epoch 27/100\n",
      "4675/4675 [==============================] - 35s 8ms/step - loss: 0.1647 - accuracy: 0.9528 - val_loss: 0.1849 - val_accuracy: 0.9517\n",
      "Epoch 28/100\n",
      "4675/4675 [==============================] - 35s 7ms/step - loss: 0.1659 - accuracy: 0.9520 - val_loss: 0.1995 - val_accuracy: 0.9475\n",
      "Epoch 29/100\n",
      "4675/4675 [==============================] - 34s 7ms/step - loss: 0.1653 - accuracy: 0.9525 - val_loss: 0.1885 - val_accuracy: 0.9510\n",
      "Epoch 30/100\n",
      "4675/4675 [==============================] - 34s 7ms/step - loss: 0.1655 - accuracy: 0.9525 - val_loss: 0.2005 - val_accuracy: 0.9503\n",
      "Epoch 31/100\n",
      "4675/4675 [==============================] - 34s 7ms/step - loss: 0.1643 - accuracy: 0.9528 - val_loss: 0.1806 - val_accuracy: 0.9538\n",
      "Epoch 32/100\n",
      "4675/4675 [==============================] - 34s 7ms/step - loss: 0.1638 - accuracy: 0.9529 - val_loss: 0.1772 - val_accuracy: 0.9555\n",
      "Epoch 33/100\n",
      "4675/4675 [==============================] - 34s 7ms/step - loss: 0.1634 - accuracy: 0.9530 - val_loss: 0.1838 - val_accuracy: 0.9505\n",
      "Epoch 34/100\n",
      "4675/4675 [==============================] - 34s 7ms/step - loss: 0.1647 - accuracy: 0.9528 - val_loss: 0.1849 - val_accuracy: 0.9508\n",
      "Epoch 35/100\n",
      "4675/4675 [==============================] - 34s 7ms/step - loss: 0.1642 - accuracy: 0.9528 - val_loss: 0.1875 - val_accuracy: 0.9508\n",
      "Epoch 36/100\n",
      "4675/4675 [==============================] - 36s 8ms/step - loss: 0.1627 - accuracy: 0.9536 - val_loss: 0.1862 - val_accuracy: 0.9515\n",
      "Epoch 37/100\n",
      "4675/4675 [==============================] - 34s 7ms/step - loss: 0.1641 - accuracy: 0.9531 - val_loss: 0.1906 - val_accuracy: 0.9500\n",
      "Epoch 38/100\n",
      "4675/4675 [==============================] - 34s 7ms/step - loss: 0.1633 - accuracy: 0.9533 - val_loss: 0.1815 - val_accuracy: 0.9523\n",
      "Epoch 39/100\n",
      "4675/4675 [==============================] - 34s 7ms/step - loss: 0.1637 - accuracy: 0.9532 - val_loss: 0.1806 - val_accuracy: 0.9513\n",
      "Epoch 40/100\n",
      "4675/4675 [==============================] - 34s 7ms/step - loss: 0.1630 - accuracy: 0.9531 - val_loss: 0.1875 - val_accuracy: 0.9485\n",
      "Epoch 41/100\n",
      "4675/4675 [==============================] - 34s 7ms/step - loss: 0.1629 - accuracy: 0.9534 - val_loss: 0.1882 - val_accuracy: 0.9493\n",
      "Epoch 42/100\n",
      "4675/4675 [==============================] - 33s 7ms/step - loss: 0.1631 - accuracy: 0.9534 - val_loss: 0.1935 - val_accuracy: 0.9475\n",
      "Epoch 43/100\n",
      "4675/4675 [==============================] - 34s 7ms/step - loss: 0.1633 - accuracy: 0.9532 - val_loss: 0.1842 - val_accuracy: 0.9528\n",
      "Epoch 44/100\n",
      "4675/4675 [==============================] - 34s 7ms/step - loss: 0.1635 - accuracy: 0.9533 - val_loss: 0.1855 - val_accuracy: 0.9495\n",
      "Epoch 45/100\n",
      "4675/4675 [==============================] - 36s 8ms/step - loss: 0.1630 - accuracy: 0.9535 - val_loss: 0.1806 - val_accuracy: 0.9518\n",
      "Epoch 46/100\n",
      "4675/4675 [==============================] - 37s 8ms/step - loss: 0.1619 - accuracy: 0.9537 - val_loss: 0.1829 - val_accuracy: 0.9503\n",
      "Epoch 47/100\n",
      "4675/4675 [==============================] - 36s 8ms/step - loss: 0.1622 - accuracy: 0.9538 - val_loss: 0.1851 - val_accuracy: 0.9532\n",
      "Epoch 48/100\n",
      "4675/4675 [==============================] - 36s 8ms/step - loss: 0.1625 - accuracy: 0.9537 - val_loss: 0.1861 - val_accuracy: 0.9515\n",
      "Epoch 49/100\n",
      "4675/4675 [==============================] - 35s 8ms/step - loss: 0.1627 - accuracy: 0.9534 - val_loss: 0.1879 - val_accuracy: 0.9490\n",
      "Epoch 50/100\n",
      "4675/4675 [==============================] - 35s 7ms/step - loss: 0.1627 - accuracy: 0.9536 - val_loss: 0.1875 - val_accuracy: 0.9503\n",
      "Epoch 51/100\n",
      "4675/4675 [==============================] - 35s 8ms/step - loss: 0.1618 - accuracy: 0.9539 - val_loss: 0.1846 - val_accuracy: 0.9508\n",
      "Epoch 52/100\n",
      "4675/4675 [==============================] - 35s 7ms/step - loss: 0.1616 - accuracy: 0.9538 - val_loss: 0.1854 - val_accuracy: 0.9528\n",
      "Epoch 53/100\n",
      "4675/4675 [==============================] - 35s 7ms/step - loss: 0.1622 - accuracy: 0.9542 - val_loss: 0.1848 - val_accuracy: 0.9503\n",
      "Epoch 54/100\n",
      "4675/4675 [==============================] - 35s 8ms/step - loss: 0.1618 - accuracy: 0.9537 - val_loss: 0.1860 - val_accuracy: 0.9527\n",
      "Epoch 55/100\n",
      "4675/4675 [==============================] - 35s 7ms/step - loss: 0.1621 - accuracy: 0.9537 - val_loss: 0.1860 - val_accuracy: 0.9497\n",
      "Epoch 56/100\n",
      "4675/4675 [==============================] - 34s 7ms/step - loss: 0.1619 - accuracy: 0.9540 - val_loss: 0.1908 - val_accuracy: 0.9502\n",
      "Epoch 57/100\n",
      "4675/4675 [==============================] - 34s 7ms/step - loss: 0.1630 - accuracy: 0.9538 - val_loss: 0.1813 - val_accuracy: 0.9527\n",
      "Epoch 58/100\n",
      "4675/4675 [==============================] - 35s 8ms/step - loss: 0.1614 - accuracy: 0.9540 - val_loss: 0.1776 - val_accuracy: 0.9538\n",
      "Epoch 59/100\n",
      "4675/4675 [==============================] - 34s 7ms/step - loss: 0.1616 - accuracy: 0.9538 - val_loss: 0.1856 - val_accuracy: 0.9503\n",
      "Epoch 60/100\n",
      "4675/4675 [==============================] - 34s 7ms/step - loss: 0.1636 - accuracy: 0.9532 - val_loss: 0.1808 - val_accuracy: 0.9518\n",
      "Epoch 61/100\n",
      "4675/4675 [==============================] - 34s 7ms/step - loss: 0.1620 - accuracy: 0.9536 - val_loss: 0.1822 - val_accuracy: 0.9502\n",
      "Epoch 62/100\n",
      "4675/4675 [==============================] - 34s 7ms/step - loss: 0.1616 - accuracy: 0.9541 - val_loss: 0.1815 - val_accuracy: 0.9525\n",
      "Epoch 63/100\n",
      "4675/4675 [==============================] - 35s 7ms/step - loss: 0.1623 - accuracy: 0.9538 - val_loss: 0.1827 - val_accuracy: 0.9505\n",
      "Epoch 64/100\n",
      "4675/4675 [==============================] - 36s 8ms/step - loss: 0.1606 - accuracy: 0.9545 - val_loss: 0.1834 - val_accuracy: 0.9498\n",
      "Epoch 65/100\n",
      "4675/4675 [==============================] - 36s 8ms/step - loss: 0.1623 - accuracy: 0.9537 - val_loss: 0.1852 - val_accuracy: 0.9495\n",
      "Epoch 66/100\n",
      "4675/4675 [==============================] - 35s 7ms/step - loss: 0.1618 - accuracy: 0.9544 - val_loss: 0.1772 - val_accuracy: 0.9540\n",
      "Epoch 67/100\n",
      "4675/4675 [==============================] - 35s 7ms/step - loss: 0.1610 - accuracy: 0.9543 - val_loss: 0.1889 - val_accuracy: 0.9512\n",
      "Epoch 68/100\n",
      "4675/4675 [==============================] - 34s 7ms/step - loss: 0.1617 - accuracy: 0.9540 - val_loss: 0.1813 - val_accuracy: 0.9495\n",
      "Epoch 69/100\n",
      "4675/4675 [==============================] - 35s 7ms/step - loss: 0.1610 - accuracy: 0.9540 - val_loss: 0.1961 - val_accuracy: 0.9470\n",
      "Epoch 70/100\n",
      "4675/4675 [==============================] - 35s 7ms/step - loss: 0.1615 - accuracy: 0.9539 - val_loss: 0.1742 - val_accuracy: 0.9562\n",
      "Epoch 71/100\n",
      "4675/4675 [==============================] - 34s 7ms/step - loss: 0.1624 - accuracy: 0.9538 - val_loss: 0.1823 - val_accuracy: 0.9520\n",
      "Epoch 72/100\n",
      "4675/4675 [==============================] - 33s 7ms/step - loss: 0.1608 - accuracy: 0.9543 - val_loss: 0.1897 - val_accuracy: 0.9497\n",
      "Epoch 73/100\n",
      "4675/4675 [==============================] - 33s 7ms/step - loss: 0.1624 - accuracy: 0.9536 - val_loss: 0.1763 - val_accuracy: 0.9528\n",
      "Epoch 74/100\n",
      "4675/4675 [==============================] - 36s 8ms/step - loss: 0.1608 - accuracy: 0.9542 - val_loss: 0.1882 - val_accuracy: 0.9473\n",
      "Epoch 75/100\n",
      "4675/4675 [==============================] - 34s 7ms/step - loss: 0.1623 - accuracy: 0.9535 - val_loss: 0.1905 - val_accuracy: 0.9480\n",
      "Epoch 76/100\n",
      "4675/4675 [==============================] - 33s 7ms/step - loss: 0.1627 - accuracy: 0.9537 - val_loss: 0.1816 - val_accuracy: 0.9517\n",
      "Epoch 77/100\n",
      "4675/4675 [==============================] - 34s 7ms/step - loss: 0.1619 - accuracy: 0.9539 - val_loss: 0.1907 - val_accuracy: 0.9507\n",
      "Epoch 78/100\n",
      "4675/4675 [==============================] - 34s 7ms/step - loss: 0.1617 - accuracy: 0.9541 - val_loss: 0.1803 - val_accuracy: 0.9508\n",
      "Epoch 79/100\n",
      "4675/4675 [==============================] - 34s 7ms/step - loss: 0.1606 - accuracy: 0.9541 - val_loss: 0.1809 - val_accuracy: 0.9542\n",
      "Epoch 80/100\n",
      "4675/4675 [==============================] - 33s 7ms/step - loss: 0.1600 - accuracy: 0.9542 - val_loss: 0.1831 - val_accuracy: 0.9520\n",
      "Epoch 81/100\n",
      "4675/4675 [==============================] - 35s 7ms/step - loss: 0.1601 - accuracy: 0.9543 - val_loss: 0.1792 - val_accuracy: 0.9518\n",
      "Epoch 82/100\n",
      "4675/4675 [==============================] - 35s 8ms/step - loss: 0.1616 - accuracy: 0.9541 - val_loss: 0.1814 - val_accuracy: 0.9492\n",
      "Epoch 83/100\n",
      "4675/4675 [==============================] - 34s 7ms/step - loss: 0.1624 - accuracy: 0.9538 - val_loss: 0.1923 - val_accuracy: 0.9470\n",
      "Epoch 84/100\n",
      "4675/4675 [==============================] - 34s 7ms/step - loss: 0.1617 - accuracy: 0.9543 - val_loss: 0.1922 - val_accuracy: 0.9495\n",
      "Epoch 85/100\n",
      "4675/4675 [==============================] - 33s 7ms/step - loss: 0.1604 - accuracy: 0.9544 - val_loss: 0.1842 - val_accuracy: 0.9510\n",
      "Epoch 86/100\n",
      "4675/4675 [==============================] - 34s 7ms/step - loss: 0.1617 - accuracy: 0.9540 - val_loss: 0.1853 - val_accuracy: 0.9528\n",
      "Epoch 87/100\n",
      "4675/4675 [==============================] - 34s 7ms/step - loss: 0.1612 - accuracy: 0.9544 - val_loss: 0.1821 - val_accuracy: 0.9488\n",
      "Epoch 88/100\n",
      "4675/4675 [==============================] - 33s 7ms/step - loss: 0.1609 - accuracy: 0.9542 - val_loss: 0.1844 - val_accuracy: 0.9507\n",
      "Epoch 89/100\n",
      "4675/4675 [==============================] - 33s 7ms/step - loss: 0.1607 - accuracy: 0.9541 - val_loss: 0.1796 - val_accuracy: 0.9507\n",
      "Epoch 90/100\n",
      "4675/4675 [==============================] - 34s 7ms/step - loss: 0.1616 - accuracy: 0.9544 - val_loss: 0.1844 - val_accuracy: 0.9507\n",
      "Epoch 91/100\n",
      "4675/4675 [==============================] - 34s 7ms/step - loss: 0.1615 - accuracy: 0.9538 - val_loss: 0.1854 - val_accuracy: 0.9495\n",
      "Epoch 92/100\n",
      "4675/4675 [==============================] - 35s 8ms/step - loss: 0.1601 - accuracy: 0.9546 - val_loss: 0.1993 - val_accuracy: 0.9443\n",
      "Epoch 93/100\n",
      "4675/4675 [==============================] - 35s 8ms/step - loss: 0.1610 - accuracy: 0.9546 - val_loss: 0.1923 - val_accuracy: 0.9493\n",
      "Epoch 94/100\n",
      "4675/4675 [==============================] - 36s 8ms/step - loss: 0.1610 - accuracy: 0.9545 - val_loss: 0.1804 - val_accuracy: 0.9533\n",
      "Epoch 95/100\n",
      "4675/4675 [==============================] - 35s 7ms/step - loss: 0.1617 - accuracy: 0.9539 - val_loss: 0.1832 - val_accuracy: 0.9493\n",
      "Epoch 96/100\n",
      "4675/4675 [==============================] - 34s 7ms/step - loss: 0.1610 - accuracy: 0.9543 - val_loss: 0.1899 - val_accuracy: 0.9495\n",
      "Epoch 97/100\n",
      "4675/4675 [==============================] - 35s 7ms/step - loss: 0.1616 - accuracy: 0.9544 - val_loss: 0.1866 - val_accuracy: 0.9497\n",
      "Epoch 98/100\n",
      "4675/4675 [==============================] - 34s 7ms/step - loss: 0.1607 - accuracy: 0.9541 - val_loss: 0.1777 - val_accuracy: 0.9523\n",
      "Epoch 99/100\n",
      "4675/4675 [==============================] - 35s 7ms/step - loss: 0.1598 - accuracy: 0.9549 - val_loss: 0.1846 - val_accuracy: 0.9520\n",
      "Epoch 100/100\n",
      "4675/4675 [==============================] - 35s 7ms/step - loss: 0.1609 - accuracy: 0.9542 - val_loss: 0.1875 - val_accuracy: 0.9493\n"
     ]
    }
   ],
   "source": [
    "from keras import callbacks\n",
    "\n",
    "callback = callbacks.EarlyStopping(monitor='val_loss', patience=20)\n",
    "\n",
    "\n",
    "history_dropblock_relu = model_Relu_dropblock.fit(\n",
    "    # X_train_normalized_lcn, y_train_oh,                 # Training data and labels\n",
    "    train_dataset,                 # Training data and labels\n",
    "    # validation_data=(X_val_normalized_lcn, y_val_oh),   # Validation data and labels\n",
    "    validation_data=val_dataset,   # Validation data and labels\n",
    "    # batch_size=128,                                 # Number of samples per batch\n",
    "    epochs=100,                                      # Number of epochs\n",
    "    class_weight=d_class_weights,                   # Adding Class Weights\n",
    "    # callbacks=[callback],\n",
    "    verbose=1                                       # Verbosity mode (1 for progress bar)\n",
    ")"
   ]
  },
  {
   "cell_type": "code",
   "execution_count": 100,
   "metadata": {},
   "outputs": [],
   "source": [
    "np.save('Relu_history_dropblock.npy',model_Relu_dropblock.history)"
   ]
  },
  {
   "cell_type": "code",
   "execution_count": 220,
   "metadata": {},
   "outputs": [],
   "source": [
    "model_Relu_dropblock.save(\"Relu_model_dropblock.keras\")"
   ]
  },
  {
   "cell_type": "markdown",
   "metadata": {},
   "source": [
    "## Model 3: Maxout Version 2"
   ]
  },
  {
   "cell_type": "code",
   "execution_count": 42,
   "metadata": {},
   "outputs": [
    {
     "name": "stdout",
     "output_type": "stream",
     "text": [
      "Model: \"sequential_8\"\n",
      "_________________________________________________________________\n",
      " Layer (type)                Output Shape              Param #   \n",
      "=================================================================\n",
      " conv2d_24 (Conv2D)          (None, 30, 30, 32)        896       \n",
      "                                                                 \n",
      " maxout_32 (Maxout)          (None, 30, 30, 16)        0         \n",
      "                                                                 \n",
      " drop_block2d_28 (DropBlock2  (None, 30, 30, 16)       0         \n",
      " D)                                                              \n",
      "                                                                 \n",
      " conv2d_25 (Conv2D)          (None, 28, 28, 64)        9280      \n",
      "                                                                 \n",
      " maxout_33 (Maxout)          (None, 28, 28, 32)        0         \n",
      "                                                                 \n",
      " drop_block2d_29 (DropBlock2  (None, 28, 28, 32)       0         \n",
      " D)                                                              \n",
      "                                                                 \n",
      " conv2d_26 (Conv2D)          (None, 26, 26, 128)       36992     \n",
      "                                                                 \n",
      " maxout_34 (Maxout)          (None, 26, 26, 64)        0         \n",
      "                                                                 \n",
      " drop_block2d_30 (DropBlock2  (None, 26, 26, 64)       0         \n",
      " D)                                                              \n",
      "                                                                 \n",
      " flatten_8 (Flatten)         (None, 43264)             0         \n",
      "                                                                 \n",
      " dense_16 (Dense)            (None, 128)               5537920   \n",
      "                                                                 \n",
      " maxout_35 (Maxout)          (None, 64)                0         \n",
      "                                                                 \n",
      " dense_17 (Dense)            (None, 10)                650       \n",
      "                                                                 \n",
      "=================================================================\n",
      "Total params: 5,585,738\n",
      "Trainable params: 5,585,738\n",
      "Non-trainable params: 0\n",
      "_________________________________________________________________\n"
     ]
    }
   ],
   "source": [
    "import tensorflow as tf\n",
    "import tensorflow_addons as tfa\n",
    "import importlib\n",
    "import utils.DropBlock\n",
    "from utils.DropBlock import DropBlock2D\n",
    "importlib.reload(utils.DropBlock)\n",
    "\n",
    "# Build the model\n",
    "model_maxout_v2_dropblock = tf.keras.Sequential([\n",
    "    tf.keras.layers.InputLayer(input_shape=(32, 32, 3)),  # Input layer\n",
    "  \n",
    "\n",
    "    tf.keras.layers.Conv2D(32, (3, 3)),                 # Convolutional layer\n",
    "    tfa.layers.Maxout(num_units=16),                   # Maxout layer\n",
    "    DropBlock2D(rate=0.2, block_size=7 ),\n",
    "\n",
    "    \n",
    "\n",
    "    tf.keras.layers.Conv2D(64, (3, 3)),                 # Convolutional layer\n",
    "    tfa.layers.Maxout(num_units=32),                  # Maxout layer\n",
    "    DropBlock2D(rate=0.2, block_size=7 ),\n",
    "\n",
    "    \n",
    "\n",
    "    tf.keras.layers.Conv2D(128, (3, 3)),                 # Convolutional layer\n",
    "    tfa.layers.Maxout(num_units=64),                   # Maxout layer\n",
    "    DropBlock2D(rate=0.2, block_size=7 ),\n",
    "\n",
    "       \n",
    "\n",
    "    tf.keras.layers.Flatten(),\n",
    "\n",
    "    \n",
    "    tf.keras.layers.Dense(128),   \n",
    "    tfa.layers.Maxout(num_units=64), \n",
    "\n",
    "    tf.keras.layers.Dense(10, activation='softmax')    # Output layer for 10 classes\n",
    "])\n",
    "\n",
    "# Compile the model\n",
    "model_maxout_v2_dropblock.compile(optimizer='adam',\n",
    "              loss='categorical_crossentropy',\n",
    "              metrics=['accuracy'])\n",
    "\n",
    "# Print the summary\n",
    "model_maxout_v2_dropblock.summary()"
   ]
  },
  {
   "cell_type": "code",
   "execution_count": 43,
   "metadata": {},
   "outputs": [
    {
     "name": "stdout",
     "output_type": "stream",
     "text": [
      "Epoch 1/100\n",
      "4675/4675 [==============================] - 110s 23ms/step - loss: 0.3063 - accuracy: 0.9113 - val_loss: 0.3037 - val_accuracy: 0.9207\n",
      "Epoch 2/100\n",
      "4675/4675 [==============================] - 109s 23ms/step - loss: 0.1784 - accuracy: 0.9487 - val_loss: 0.2836 - val_accuracy: 0.9293\n",
      "Epoch 3/100\n",
      "4675/4675 [==============================] - 109s 23ms/step - loss: 0.1579 - accuracy: 0.9541 - val_loss: 0.2944 - val_accuracy: 0.9307\n",
      "Epoch 4/100\n",
      "4675/4675 [==============================] - 110s 23ms/step - loss: 0.1435 - accuracy: 0.9581 - val_loss: 0.3048 - val_accuracy: 0.9253\n",
      "Epoch 5/100\n",
      "4675/4675 [==============================] - 109s 23ms/step - loss: 0.1339 - accuracy: 0.9607 - val_loss: 0.3159 - val_accuracy: 0.9308\n",
      "Epoch 6/100\n",
      "4675/4675 [==============================] - 109s 23ms/step - loss: 0.1280 - accuracy: 0.9620 - val_loss: 0.3590 - val_accuracy: 0.9280\n",
      "Epoch 7/100\n",
      "4675/4675 [==============================] - 110s 23ms/step - loss: 0.1204 - accuracy: 0.9640 - val_loss: 0.3501 - val_accuracy: 0.9277\n",
      "Epoch 8/100\n",
      "4675/4675 [==============================] - 109s 23ms/step - loss: 0.1166 - accuracy: 0.9651 - val_loss: 0.3760 - val_accuracy: 0.9310\n",
      "Epoch 9/100\n",
      "4675/4675 [==============================] - 110s 23ms/step - loss: 0.1128 - accuracy: 0.9661 - val_loss: 0.4305 - val_accuracy: 0.9232\n",
      "Epoch 10/100\n",
      "4675/4675 [==============================] - 110s 23ms/step - loss: 0.1095 - accuracy: 0.9672 - val_loss: 0.4097 - val_accuracy: 0.9283\n",
      "Epoch 11/100\n",
      "4675/4675 [==============================] - 110s 24ms/step - loss: 0.1064 - accuracy: 0.9681 - val_loss: 0.4147 - val_accuracy: 0.9245\n",
      "Epoch 12/100\n",
      "4675/4675 [==============================] - 108s 23ms/step - loss: 0.1047 - accuracy: 0.9686 - val_loss: 0.4434 - val_accuracy: 0.9232\n"
     ]
    }
   ],
   "source": [
    "# This callback will stop the training when there is no improvement in\n",
    "# the loss for 5 consecutive epochs.\n",
    "\n",
    "from keras import callbacks\n",
    "\n",
    "callback = callbacks.EarlyStopping(monitor='val_loss', patience=10)\n",
    "\n",
    "history_maxout_v2_dropblock = model_maxout_v2_dropblock.fit(\n",
    "    # X_train_normalized, y_train_oh,                 # Training data and labels\n",
    "    train_dataset,                 # Training data and labels\n",
    "    # validation_data=(X_val_normalized, y_val_oh),   # Validation data and labels\n",
    "    validation_data=(val_dataset),   # Validation data and labels\n",
    "    # batch_size=128,                                 # Number of samples per batch\n",
    "    epochs=100,                                     # Number of epochs\n",
    "    class_weight=d_class_weights,                   # Adding Class Weights\n",
    "    callbacks=[callback],\n",
    "    verbose=1                                       # Verbosity mode (1 for progress bar)\n",
    ")"
   ]
  },
  {
   "cell_type": "code",
   "execution_count": 108,
   "metadata": {},
   "outputs": [],
   "source": [
    "np.save('maxout_history_v2_dropblock.npy',history_maxout_v2_dropblock.history)"
   ]
  },
  {
   "cell_type": "code",
   "execution_count": 223,
   "metadata": {},
   "outputs": [],
   "source": [
    "model_maxout_v2_dropblock.save(\"model_maxout_v2_dropblock.keras\")"
   ]
  },
  {
   "cell_type": "markdown",
   "metadata": {},
   "source": [
    "# Results"
   ]
  },
  {
   "cell_type": "code",
   "execution_count": 88,
   "metadata": {},
   "outputs": [],
   "source": [
    "import pandas as pd\n",
    "\n",
    "# convert the history.history dict to a pandas DataFrame:     \n",
    "hist_df_Relu_dropblock = pd.DataFrame(history_dropblock_relu.history) \n",
    "# hist_df_maxout_v1 = pd.DataFrame(history_maxout_v1.history) \n",
    "# hist_df_maxout_v2= pd.DataFrame(history_maxout_v2.history)"
   ]
  },
  {
   "cell_type": "code",
   "execution_count": 175,
   "metadata": {},
   "outputs": [],
   "source": [
    "# Concatenate Datasets together and assign Dataset column with a label \n",
    "\n",
    "# concat_history = pd.concat([hist_df_Relu.assign(dataset='relu'), hist_df_maxout_v1.assign(dataset='maxout_v1'), hist_df_maxout_v2.assign(dataset='maxout_v2')])"
   ]
  },
  {
   "cell_type": "code",
   "execution_count": 89,
   "metadata": {},
   "outputs": [],
   "source": [
    "# Function to the plot Training and Validation Scores\n",
    "\n",
    "import matplotlib.pyplot as plt\n",
    "\n",
    "def plot_accuracy_metric(dataframe, plotname):\n",
    "\n",
    "    accuracy = dataframe[\"accuracy\"]\n",
    "    val_accuracy = dataframe[\"val_accuracy\"]\n",
    "    loss = dataframe[\"loss\"]\n",
    "    val_loss = dataframe[\"val_loss\"]\n",
    "    epochs = range(1, len(accuracy) + 1)\n",
    "\n",
    "    fig, axes = plt.subplots(1, 2, figsize=(12, 6))\n",
    "\n",
    "\n",
    "    # Subplot 1: Training and Validation Accuracy\n",
    "    axes[0].plot(epochs, accuracy, \"bo\", label=\"Training accuracy\")\n",
    "    axes[0].plot(epochs, val_accuracy, \"b\", label=\"Validation accuracy\")\n",
    "    axes[0].set_title(\"Training and validation accuracy \" + plotname)\n",
    "    axes[0].set_xlabel(\"Epochs\")\n",
    "    axes[0].set_ylabel(\"Accuracy\")\n",
    "    axes[0].legend()\n",
    "    # plt.figure()\n",
    "    # Subplot 2: Training and Validation Loss\n",
    "    axes[1].plot(epochs, loss, \"bo\", label=\"Training loss\")\n",
    "    axes[1].plot(epochs, val_loss, \"b\", label=\"Validation loss\")\n",
    "    axes[1].set_title(\"Training and validation loss \" + plotname)\n",
    "    axes[1].set_xlabel(\"Epochs\")\n",
    "    axes[1].set_ylabel(\"Loss\")\n",
    "    axes[1].legend()\n",
    "    \n",
    "    plt.tight_layout()\n",
    "    plt.show()"
   ]
  },
  {
   "cell_type": "code",
   "execution_count": 90,
   "metadata": {},
   "outputs": [
    {
     "data": {
      "image/png": "[encoded data removed]",
      "text/plain": [
       "<Figure size 1200x600 with 2 Axes>"
      ]
     },
     "metadata": {},
     "output_type": "display_data"
    }
   ],
   "source": [
    "plot_accuracy_metric(hist_df_Relu_dropblock, 'Relu')\n",
    "# plot_accuracy_metric(hist_df_maxout_v1, 'Maxout_v1')\n",
    "# plot_accuracy_metric(hist_df_maxout_v2, 'Maxout_v2')"
   ]
  },
  {
   "cell_type": "code",
   "execution_count": null,
   "metadata": {},
   "outputs": [],
   "source": [
    "import seaborn as sns\n",
    "\n",
    "from sklearn.metrics import confusion_matrix\n",
    "\n",
    "cm = confusion_matrix()"
   ]
  },
  {
   "cell_type": "markdown",
   "metadata": {},
   "source": [
    "## Code Testing"
   ]
  },
  {
   "cell_type": "code",
   "execution_count": 21,
   "metadata": {},
   "outputs": [],
   "source": [
    "import gc\n",
    "import tensorflow as tf\n",
    "\n",
    "# Clear memory\n",
    "gc.collect()\n",
    "tf.keras.backend.clear_session()"
   ]
  },
  {
   "cell_type": "code",
   "execution_count": null,
   "metadata": {},
   "outputs": [],
   "source": [
    "from keras.utils import plot_model\n",
    "\n",
    "plot_model(model_Relu, to_file='model_Relu.png')"
   ]
  },
  {
   "cell_type": "code",
   "execution_count": null,
   "metadata": {},
   "outputs": [],
   "source": [
    "# Code taken from Deep Learning with Python, Second Edition Chapter 8 Listing 8.12\n",
    "\n",
    "import matplotlib.pyplot as plt\n",
    "accuracy = history.history[\"accuracy\"]\n",
    "val_accuracy = history.history[\"val_accuracy\"]\n",
    "loss = history.history[\"loss\"]\n",
    "val_loss = history.history[\"val_loss\"]\n",
    "epochs = range(1, len(accuracy) + 1)\n",
    "plt.plot(epochs, accuracy, \"bo\", label=\"Training accuracy\")\n",
    "plt.plot(epochs, val_accuracy, \"b\", label=\"Validation accuracy\")\n",
    "plt.title(\"Training and validation accuracy\")\n",
    "plt.legend()\n",
    "plt.figure()\n",
    "plt.plot(epochs, loss, \"bo\", label=\"Training loss\")\n",
    "plt.plot(epochs, val_loss, \"b\", label=\"Validation loss\")\n",
    "plt.title(\"Training and validation loss\")\n",
    "plt.legend()\n",
    "plt.show()"
   ]
  },
  {
   "cell_type": "code",
   "execution_count": null,
   "metadata": {},
   "outputs": [],
   "source": [
    "# New parameters model\n",
    "# model_07/12_12:00_epochs\n",
    "\n",
    "import tensorflow as tf\n",
    "import tensorflow_addons as tfa\n",
    "from keras.constraints import max_norm\n",
    "from keras.optimizers import Adam\n",
    "\n",
    "# Build the model\n",
    "model_4 = tf.keras.Sequential([\n",
    "\n",
    "    tf.keras.layers.InputLayer(input_shape=(32, 32, 3)),  # Input layer\n",
    "    # tf.keras.layers.Dropout(.1),              \n",
    "\n",
    "    # tf.keras.layers.Conv2D(32, (5, 5), strides=(1, 1), padding=\"same\", kernel_constraint=max_norm(4)),                              \n",
    "    tf.keras.layers.Conv2D(1024, (5, 5), strides=(1, 1), padding=\"same\"), \n",
    "    tf.keras.layers.Dropout(.5),                             \n",
    "    tfa.layers.Maxout(num_units=2),                   \n",
    "                     \n",
    "    tf.keras.layers.MaxPooling2D((3, 3), strides=(2, 2)),\n",
    "    \n",
    "\n",
    "    # tf.keras.layers.Conv2D(64, (5, 5), strides=(1, 1), padding=\"same\" , kernel_constraint=max_norm(4)),              \n",
    "    tf.keras.layers.Conv2D(2048, (5, 5), strides=(1, 1), padding=\"same\"),  \n",
    "    tf.keras.layers.Dropout(.5),             \n",
    "    tfa.layers.Maxout(num_units=2),                   #\n",
    "                      #\n",
    "    tf.keras.layers.MaxPooling2D((3, 3), strides=(2, 2)),\n",
    "    \n",
    "\n",
    "    # tf.keras.layers.Conv2D(128, (5, 5), strides=(1, 1), padding=\"same\" , kernel_constraint=max_norm(4)),              \n",
    "    tf.keras.layers.Conv2D(4096, (5, 5), strides=(1, 1), padding=\"same\"), \n",
    "    tf.keras.layers.Dropout(.5),             \n",
    "    tfa.layers.Maxout(num_units=2),                   \n",
    "                  \n",
    "    tf.keras.layers.MaxPooling2D((3, 3), strides=(2, 2)),\n",
    "    \n",
    "\n",
    "\n",
    "    tf.keras.layers.Flatten(),\n",
    "    # tf.keras.layers.Dense(128,kernel_constraint=max_norm(4)),   \n",
    "    tf.keras.layers.Dense(4096),\n",
    "    tf.keras.layers.Dropout(.5),   \n",
    "    tfa.layers.Maxout(num_units=2),\n",
    " \n",
    "    \n",
    "    # tf.keras.layers.Dense(10, activation='softmax', kernel_constraint=max_norm(4))    # Output layer for 10 classes\n",
    "    tf.keras.layers.Dense(10, activation='softmax')    # Output layer for 10 classes\n",
    "])\n",
    "\n",
    "# Compile the model\n",
    "optimizer = Adam(beta_1=0.95)\n",
    "model_4.compile(optimizer=optimizer,\n",
    "              loss='categorical_crossentropy',\n",
    "              metrics=['accuracy'])\n",
    "\n",
    "# Print the summary\n",
    "model_4.summary()"
   ]
  },
  {
   "cell_type": "code",
   "execution_count": null,
   "metadata": {},
   "outputs": [],
   "source": [
    "history = model_4.fit(\n",
    "    X_train_normalized, y_train_oh,                # Training data and labels\n",
    "    validation_data=(X_val_normalized, y_val_oh),  # Validation data and labels\n",
    "    batch_size=128,                   # Number of samples per batch\n",
    "    epochs=100,                       # Number of epochs\n",
    "    class_weight=d_class_weights,\n",
    "    verbose=1                        # Verbosity mode (1 for progress bar)\n",
    ")"
   ]
  },
  {
   "cell_type": "code",
   "execution_count": null,
   "metadata": {},
   "outputs": [],
   "source": [
    "# New Parameters Model\n",
    "\n",
    "import tensorflow as tf\n",
    "import tensorflow_addons as tfa\n",
    "from keras.constraints import max_norm\n",
    "from keras.optimizers import Adam\n",
    "\n",
    "# Build the model\n",
    "model = tf.keras.Sequential([\n",
    "\n",
    "    tf.keras.layers.InputLayer(input_shape=(32, 32, 3)),  # Input layer\n",
    "    tf.keras.layers.Dropout(.1),              \n",
    "\n",
    "    tf.keras.layers.Conv2D(96, (5, 5), strides=(1, 1), padding=\"same\", kernel_constraint=max_norm(4)),  \n",
    "    tfa.layers.Maxout(num_units=2),                         \n",
    "    tf.keras.layers.MaxPooling2D((3, 3), strides=(2, 2)),\n",
    "    tf.keras.layers.Dropout(.25),\n",
    "\n",
    "    tf.keras.layers.Conv2D(128, (5, 5), strides=(1, 1), padding=\"same\" , kernel_constraint=max_norm(4)), \n",
    "    tfa.layers.Maxout(num_units=2),                       #\n",
    "    tf.keras.layers.MaxPooling2D((3, 3), strides=(2, 2)),\n",
    "    tf.keras.layers.Dropout(.25),\n",
    "\n",
    "    tf.keras.layers.Conv2D(256, (5, 5), strides=(1, 1), padding=\"same\" , kernel_constraint=max_norm(4)),\n",
    "    tfa.layers.Maxout(num_units=2),                   \n",
    "    tf.keras.layers.MaxPooling2D((3, 3), strides=(2, 2)),\n",
    "    tf.keras.layers.Dropout(.5),\n",
    "  \n",
    "    tf.keras.layers.Flatten(),\n",
    "        \n",
    "    tf.keras.layers.Dense(512,kernel_constraint=max_norm(4)),\n",
    "    tfa.layers.Maxout(num_units=2),\n",
    "    # tf.keras.layers.MaxPooling2D((3, 3), strides=(2, 2)),\n",
    "    tf.keras.layers.Dropout(.5),\n",
    "\n",
    "    \n",
    "\n",
    "    tf.keras.layers.Dense(10, activation='softmax', kernel_constraint=max_norm(4))    # Output layer for 10 classes\n",
    "])\n",
    "\n",
    "# Compile the model\n",
    "optimizer = Adam(beta_1=0.95)\n",
    "model.compile(optimizer=optimizer,\n",
    "              loss='sparse_categorical_crossentropy',\n",
    "              metrics=['accuracy'])\n",
    "\n",
    "# Print the summary\n",
    "model.summary()"
   ]
  },
  {
   "cell_type": "code",
   "execution_count": null,
   "metadata": {},
   "outputs": [],
   "source": [
    "history = model.fit(\n",
    "    X_train_reshaped, y_train_flatten,                # Training data and labels\n",
    "    validation_data=(X_val_reshaped, y_val_flatten),  # Validation data and labels\n",
    "    batch_size=2048,                   # Number of samples per batch\n",
    "    epochs=50,                       # Number of epochs\n",
    "    class_weight=class_weights,\n",
    "    verbose=1                        # Verbosity mode (1 for progress bar)\n",
    ")"
   ]
  }
 ],
 "metadata": {
  "kernelspec": {
   "display_name": "Final_Project_tensor-addon",
   "language": "python",
   "name": "python3"
  },
  "language_info": {
   "codemirror_mode": {
    "name": "ipython",
    "version": 3
   },
   "file_extension": ".py",
   "mimetype": "text/x-python",
   "name": "python",
   "nbconvert_exporter": "python",
   "pygments_lexer": "ipython3",
   "version": "3.9.20"
  }
 },
 "nbformat": 4,
 "nbformat_minor": 2
}
